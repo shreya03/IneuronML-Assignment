{
 "cells": [
  {
   "cell_type": "markdown",
   "metadata": {},
   "source": [
    " # Assignment 1"
   ]
  },
  {
   "cell_type": "markdown",
   "metadata": {},
   "source": [
    "Task 1"
   ]
  },
  {
   "cell_type": "markdown",
   "metadata": {},
   "source": [
    "Question 0"
   ]
  },
  {
   "cell_type": "code",
   "execution_count": 1,
   "metadata": {},
   "outputs": [
    {
     "name": "stdout",
     "output_type": "stream",
     "text": [
      " Hello \n"
     ]
    }
   ],
   "source": [
    "print(\" Hello \")"
   ]
  },
  {
   "cell_type": "markdown",
   "metadata": {},
   "source": [
    "Question 1"
   ]
  },
  {
   "cell_type": "code",
   "execution_count": 2,
   "metadata": {},
   "outputs": [
    {
     "name": "stdout",
     "output_type": "stream",
     "text": [
      "2030,2065,2100,2135,2170,2205,2240,2275,2310,2345,2380,2415,2450,2485,2520,2555,2590,2625,2660,2695,2730,2765,2800,2835,2870,2905,2940,2975,3010,3045,3080,3115,3150,3185,"
     ]
    }
   ],
   "source": [
    "for number in range(2000,3201):\n",
    "    if number % 7 == 0 and number % 5 == 0:\n",
    "        print(number , end = \",\")"
   ]
  },
  {
   "cell_type": "markdown",
   "metadata": {},
   "source": [
    "Question 2"
   ]
  },
  {
   "cell_type": "code",
   "execution_count": 3,
   "metadata": {},
   "outputs": [
    {
     "name": "stdout",
     "output_type": "stream",
     "text": [
      "First Name\n",
      "shreya\n",
      "Last Name\n",
      "Pande\n",
      "User Name :  Pande   shreya\n"
     ]
    }
   ],
   "source": [
    "def use_input():\n",
    "    print(\"First Name\")\n",
    "    First_name = input()\n",
    "    \n",
    "    print(\"Last Name\")\n",
    "    Last_name = input()\n",
    "    \n",
    "    print(\"User Name : \",Last_name,\" \",First_name)\n",
    "\n",
    "use_input()"
   ]
  },
  {
   "cell_type": "code",
   "execution_count": 4,
   "metadata": {},
   "outputs": [],
   "source": [
    "# def reverse_string():\n",
    "#     print(\"First Name\")\n",
    "#     First_name = input()\n",
    "#     First_name = First_name[::-1]\n",
    "    \n",
    "#     print(\"Last Name\")\n",
    "#     Last_name = input()\n",
    "#     Last_name = Last_name[::-1]\n",
    "    \n",
    "#     print(\"Reversed First Name: \",First_name)\n",
    "#     print(\"Reversed Last Name: \",Last_name)\n",
    "    \n",
    "# reverse_string()"
   ]
  },
  {
   "cell_type": "markdown",
   "metadata": {},
   "source": [
    "Question 3"
   ]
  },
  {
   "cell_type": "code",
   "execution_count": 5,
   "metadata": {},
   "outputs": [
    {
     "name": "stdout",
     "output_type": "stream",
     "text": [
      "Volumn of the Sphere in cm is : 904.7786842338603\n"
     ]
    }
   ],
   "source": [
    "import math\n",
    "\n",
    "def vol_sphere():\n",
    "    dia = 12 \n",
    "    radius = dia/2\n",
    "    vol = (4/3)* (math.pi)* (math.pow(radius,3))\n",
    "    return vol\n",
    "\n",
    "if __name__ == \"__main__\":\n",
    "    print(\"Volumn of the Sphere in cm is :\" , vol_sphere())"
   ]
  },
  {
   "cell_type": "markdown",
   "metadata": {},
   "source": [
    "Question 4"
   ]
  },
  {
   "cell_type": "code",
   "execution_count": 7,
   "metadata": {},
   "outputs": [
    {
     "name": "stdout",
     "output_type": "stream",
     "text": [
      "12,23,34,45,56,67,78,89,90\n",
      "[12, 23, 34, 45, 56, 67, 78, 89, 90]\n"
     ]
    }
   ],
   "source": [
    "def comma_list(list_val):\n",
    "    temp_list1 = list_val.split(\",\") \n",
    "    temp_list2 = []\n",
    "    for element in temp_list1:\n",
    "        temp_list2.append(int(element))\n",
    "    \n",
    "    return temp_list2\n",
    "\n",
    "if __name__ == \"__main__\":\n",
    "    print(comma_list( input () ))\n",
    "    \n",
    "    "
   ]
  },
  {
   "cell_type": "markdown",
   "metadata": {},
   "source": [
    "Question 5"
   ]
  },
  {
   "cell_type": "code",
   "execution_count": 8,
   "metadata": {},
   "outputs": [
    {
     "name": "stdout",
     "output_type": "stream",
     "text": [
      "* \r\n",
      "* * \r\n",
      "* * * \r\n",
      "* * * * \r\n",
      "* * * * * \r\n",
      "* * * * \r\n",
      "* * * \r\n",
      "* * \r\n",
      "* \r\n",
      "\r\n"
     ]
    }
   ],
   "source": [
    "def pattern(n): \n",
    "      \n",
    "    # outer loop for rows \n",
    "    for i in range(0, n): \n",
    "        # inner loop for  columns \n",
    "        for j in range(0, i+1):  \n",
    "            print(\"* \",end=\"\") \n",
    "        # ending line after each row \n",
    "        print(\"\\r\") \n",
    "        \n",
    "    for i in range(0, n):\n",
    "        for j in range(n-1, i, -1):\n",
    "            print(\"* \", end=\"\")\n",
    "        print(\"\\r\")\n",
    "  \n",
    "\n",
    "if __name__ == \"__main__\":\n",
    "    pattern(5) "
   ]
  },
  {
   "cell_type": "markdown",
   "metadata": {},
   "source": [
    "Question 6"
   ]
  },
  {
   "cell_type": "code",
   "execution_count": null,
   "metadata": {},
   "outputs": [],
   "source": [
    "def reverse_string(name):\n",
    "    print(\"Input String :\",name)\n",
    "    name = name[::-1]\n",
    "    print(\"Output String :\",name)\n",
    "\n",
    "if __name__ == \"__main__\":\n",
    "    name = reverse_string(input( ))\n",
    "    "
   ]
  },
  {
   "cell_type": "code",
   "execution_count": null,
   "metadata": {},
   "outputs": [],
   "source": [
    "def reverse_string(input_string):\n",
    "    new_string = ''\n",
    "    for char_string in input_string:\n",
    "        new_string = char_string + new_string\n",
    "    return new_string\n",
    "\n",
    "\n",
    "\n",
    "if __name__ == \"__main__\":\n",
    "    print('Reverse String using for loop =', reverse_string(input () ))"
   ]
  },
  {
   "cell_type": "markdown",
   "metadata": {},
   "source": [
    "Question 7"
   ]
  },
  {
   "cell_type": "code",
   "execution_count": null,
   "metadata": {},
   "outputs": [],
   "source": [
    "# \\n for new Line\n",
    "# \\t for space \n",
    "def print_statement():\n",
    "    print(\"WE, THE PEOPLE OF INDIA, \\n\\t having solemnly resolved to constitute India into a SOVEREIGN, ! \\n\\t\\t SOCIALIST, SECULAR, DEMOCRATIC REPUBLIC \\n\\t\\t and to secure to allits citizens. \")\n",
    "\n",
    "if __name__ == \"__main__\":\n",
    "    print_statement()"
   ]
  }
 ],
 "metadata": {
  "kernelspec": {
   "display_name": "Python 3",
   "language": "python",
   "name": "python3"
  },
  "language_info": {
   "codemirror_mode": {
    "name": "ipython",
    "version": 3
   },
   "file_extension": ".py",
   "mimetype": "text/x-python",
   "name": "python",
   "nbconvert_exporter": "python",
   "pygments_lexer": "ipython3",
   "version": "3.6.4"
  }
 },
 "nbformat": 4,
 "nbformat_minor": 2
}
