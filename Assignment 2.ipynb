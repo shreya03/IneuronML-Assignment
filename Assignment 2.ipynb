{
 "cells": [
  {
   "cell_type": "markdown",
   "metadata": {},
   "source": [
    "Assignment 2"
   ]
  },
  {
   "cell_type": "markdown",
   "metadata": {},
   "source": [
    "Question 1"
   ]
  },
  {
   "cell_type": "code",
   "execution_count": 1,
   "metadata": {},
   "outputs": [
    {
     "name": "stdout",
     "output_type": "stream",
     "text": [
      "* \r\n",
      "* * \r\n",
      "* * * \r\n",
      "* * * * \r\n",
      "* * * * * \r\n",
      "* * * * \r\n",
      "* * * \r\n",
      "* * \r\n",
      "* \r\n",
      "\r\n"
     ]
    }
   ],
   "source": [
    "def pattern(n): \n",
    "      \n",
    "    # outer loop for rows \n",
    "    for i in range(0, n): \n",
    "        # inner loop for  columns \n",
    "        for j in range(0, i+1):  \n",
    "            print(\"* \",end=\"\") \n",
    "        # ending line after each row \n",
    "        print(\"\\r\") \n",
    "        \n",
    "    for i in range(0, n):\n",
    "        for j in range(n-1, i, -1):\n",
    "            print(\"* \", end=\"\")\n",
    "        print(\"\\r\")\n",
    "  \n",
    "\n",
    "if __name__ == \"__main__\":\n",
    "    pattern(5)"
   ]
  },
  {
   "cell_type": "markdown",
   "metadata": {},
   "source": [
    "Question 2"
   ]
  },
  {
   "cell_type": "code",
   "execution_count": 2,
   "metadata": {},
   "outputs": [
    {
     "name": "stdout",
     "output_type": "stream",
     "text": [
      "ineuron\n",
      "Reverse String using for loop = norueni\n"
     ]
    }
   ],
   "source": [
    "def reverse_string(input_string):\n",
    "    new_string = ''\n",
    "    for char_string in input_string:\n",
    "        new_string = char_string + new_string\n",
    "    return new_string\n",
    "\n",
    "\n",
    "\n",
    "if __name__ == \"__main__\":\n",
    "    print('Reverse String using for loop =', reverse_string(input () ))"
   ]
  },
  {
   "cell_type": "code",
   "execution_count": null,
   "metadata": {},
   "outputs": [],
   "source": []
  }
 ],
 "metadata": {
  "kernelspec": {
   "display_name": "Python 3",
   "language": "python",
   "name": "python3"
  },
  "language_info": {
   "codemirror_mode": {
    "name": "ipython",
    "version": 3
   },
   "file_extension": ".py",
   "mimetype": "text/x-python",
   "name": "python",
   "nbconvert_exporter": "python",
   "pygments_lexer": "ipython3",
   "version": "3.6.4"
  }
 },
 "nbformat": 4,
 "nbformat_minor": 2
}
