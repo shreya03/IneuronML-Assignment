{
 "cells": [
  {
   "cell_type": "markdown",
   "metadata": {},
   "source": [
    "Assignment 3"
   ]
  },
  {
   "cell_type": "markdown",
   "metadata": {},
   "source": [
    "Question 1.1 "
   ]
  },
  {
   "cell_type": "code",
   "execution_count": 1,
   "metadata": {},
   "outputs": [
    {
     "name": "stdout",
     "output_type": "stream",
     "text": [
      "40\n"
     ]
    }
   ],
   "source": [
    "def myreduce():\n",
    "    total = 0\n",
    "    input_list = [10,10,10,10]\n",
    "    len_list = len(input_list)\n",
    "    for element in range(len_list):\n",
    "        total = total + input_list[element]\n",
    "    print(total)\n",
    "\n",
    "if __name__ == \"__main__\":\n",
    "    myreduce()"
   ]
  },
  {
   "cell_type": "markdown",
   "metadata": {},
   "source": [
    "Question 1.2"
   ]
  },
  {
   "cell_type": "code",
   "execution_count": 2,
   "metadata": {},
   "outputs": [
    {
     "name": "stdout",
     "output_type": "stream",
     "text": [
      "[10, 12, 14, 16]\n"
     ]
    }
   ],
   "source": [
    "def filter_fun():\n",
    "    input_list = [10,11,12,13,14,15,16]\n",
    "    list_len = len(input_list)\n",
    "    filter_list = []\n",
    "    for element in range(list_len):\n",
    "        num = input_list[element]\n",
    "        if num %2 == 0:\n",
    "            filter_list.append(num)\n",
    "    \n",
    "    print(filter_list)\n",
    "        \n",
    "        \n",
    "if __name__ ==\"__main__\":\n",
    "    filter_fun()\n",
    "    "
   ]
  },
  {
   "cell_type": "markdown",
   "metadata": {},
   "source": [
    "Question 2"
   ]
  },
  {
   "cell_type": "code",
   "execution_count": 3,
   "metadata": {},
   "outputs": [
    {
     "data": {
      "text/plain": [
       "['x',\n",
       " 'xx',\n",
       " 'xxx',\n",
       " 'xxxx',\n",
       " 'xxxxx',\n",
       " 'y',\n",
       " 'yy',\n",
       " 'yyy',\n",
       " 'yyyy',\n",
       " 'yyyyy',\n",
       " 'z',\n",
       " 'zz',\n",
       " 'zzz',\n",
       " 'zzzz',\n",
       " 'zzzzz']"
      ]
     },
     "execution_count": 3,
     "metadata": {},
     "output_type": "execute_result"
    }
   ],
   "source": [
    "input_list2 = ['x','y','z']\n",
    "new_list2 = []\n",
    "len_list2 = len(input_list2)\n",
    "\n",
    "for element in range(len_list2):\n",
    "    for num in range(1,6):\n",
    "        new_list2.append(input_list2[element]*num)\n",
    "#         print(input_list2[element])\n",
    "new_list2"
   ]
  },
  {
   "cell_type": "code",
   "execution_count": 7,
   "metadata": {},
   "outputs": [
    {
     "data": {
      "text/plain": [
       "['x', 'y', 'z', 'xx', 'yy', 'zz', 'xxx', 'yyy', 'zzz', 'xxxx', 'yyyy', 'zzzz']"
      ]
     },
     "execution_count": 7,
     "metadata": {},
     "output_type": "execute_result"
    }
   ],
   "source": [
    "input_list2 = ['x','y','z']\n",
    "new_list2 = []\n",
    "len_list2 = len(input_list2)\n",
    "\n",
    "\n",
    "for num in range(1,5):\n",
    "    for element in range(len_list2):\n",
    "        new_list2.append(input_list2[element]*num)\n",
    "#         print(input_list2[element])\n",
    "new_list2"
   ]
  },
  {
   "cell_type": "code",
   "execution_count": 16,
   "metadata": {},
   "outputs": [
    {
     "data": {
      "text/plain": [
       "[[2], [3], [4], [5], [6]]"
      ]
     },
     "execution_count": 16,
     "metadata": {},
     "output_type": "execute_result"
    }
   ],
   "source": [
    "input_list3 = []\n",
    "\n",
    "input_list3.append([2])\n",
    "input_list3.append([3])\n",
    "input_list3.append([4])\n",
    "input_list3.append([5])\n",
    "input_list3.append([6])\n",
    "input_list3"
   ]
  },
  {
   "cell_type": "code",
   "execution_count": 26,
   "metadata": {},
   "outputs": [
    {
     "data": {
      "text/plain": [
       "[[2, 3, 4, 5], [3, 4, 5, 6], [4, 5, 6, 7], [5, 6, 7, 8]]"
      ]
     },
     "execution_count": 26,
     "metadata": {},
     "output_type": "execute_result"
    }
   ],
   "source": [
    "input_list4 = []\n",
    "list1 = [2,3,4,5]\n",
    "list2 = list(range(3,7))\n",
    "list3 = list(range(4,8))\n",
    "list4 = list(range(5,9))\n",
    "input_list4.append(list1)\n",
    "input_list4.append(list2)\n",
    "input_list4.append(list3)\n",
    "input_list4.append(list4)\n",
    "input_list4"
   ]
  },
  {
   "cell_type": "code",
   "execution_count": 29,
   "metadata": {},
   "outputs": [],
   "source": [
    "input_list5 = []\n",
    "tuple1 = (1,1)\n",
    "tuple2 = (2,1)\n",
    "tuple3 = (3,1)\n",
    "tuple4 = (1,2)\n",
    "tuple5 = (2,2)\n",
    "tuple6 = (3,4)\n",
    "tuple7 = (1,3)\n",
    "tuple8 = (2,3)\n",
    "tuple9 = (3,3)\n",
    "\n",
    "input_list5.append(tuple1)\n",
    "input_list5.append(tuple2)\n",
    "input_list5.append(tuple3)\n",
    "input_list5.append(tuple4)\n",
    "input_list5.append(tuple5)\n",
    "input_list5.append(tuple6)\n",
    "input_list5.append(tuple7)\n",
    "input_list5.append(tuple8)\n",
    "input_list5.append(tuple9)"
   ]
  },
  {
   "cell_type": "code",
   "execution_count": 30,
   "metadata": {},
   "outputs": [
    {
     "data": {
      "text/plain": [
       "[(1, 1), (2, 1), (3, 1), (1, 2), (2, 2), (3, 4), (1, 3), (2, 3), (3, 3)]"
      ]
     },
     "execution_count": 30,
     "metadata": {},
     "output_type": "execute_result"
    }
   ],
   "source": [
    "input_list5"
   ]
  },
  {
   "cell_type": "code",
   "execution_count": null,
   "metadata": {},
   "outputs": [],
   "source": []
  }
 ],
 "metadata": {
  "kernelspec": {
   "display_name": "Python 3",
   "language": "python",
   "name": "python3"
  },
  "language_info": {
   "codemirror_mode": {
    "name": "ipython",
    "version": 3
   },
   "file_extension": ".py",
   "mimetype": "text/x-python",
   "name": "python",
   "nbconvert_exporter": "python",
   "pygments_lexer": "ipython3",
   "version": "3.6.4"
  }
 },
 "nbformat": 4,
 "nbformat_minor": 2
}
