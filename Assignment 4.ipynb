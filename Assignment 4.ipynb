{
 "cells": [
  {
   "cell_type": "markdown",
   "metadata": {},
   "source": [
    "Question 1.1"
   ]
  },
  {
   "cell_type": "markdown",
   "metadata": {},
   "source": [
    "1.1 Write a Python Program(with class concepts) to find the area of the triangle using the below\n",
    "formula.\n",
    "area = (s*(s-a)*(s-b)*(s-c)) ** 0.5\n",
    "Function to take the length of the sides of triangle from user should be defined in the parent\n",
    "class and function to calculate the area should be defined in subclass."
   ]
  },
  {
   "cell_type": "code",
   "execution_count": 1,
   "metadata": {},
   "outputs": [
    {
     "name": "stdout",
     "output_type": "stream",
     "text": [
      "Area of triangle : 64.06246951218786\n"
     ]
    }
   ],
   "source": [
    "import math\n",
    "class triangle:\n",
    "    def __init__(self, a, b, c):\n",
    "        self.a = a\n",
    "        self.b = b\n",
    "        self.c = c\n",
    "        self.s = (a+b+c)/2\n",
    "        \n",
    "    def area(self):\n",
    "        ans = math.sqrt(self.s*(self.s-self.a)*(self.s-self.b)*(self.s-self.c))\n",
    "        print(\"Area of triangle :\",ans)\n",
    "    \n",
    "ans= triangle(10,13,15)\n",
    "ans.area()\n",
    "        \n",
    "   \n"
   ]
  },
  {
   "cell_type": "markdown",
   "metadata": {},
   "source": [
    "Question 1.2"
   ]
  },
  {
   "cell_type": "markdown",
   "metadata": {},
   "source": [
    "1.2 Write a function filter_long_words() that takes a list of words and an integer n and returns\n",
    "the list of words that are longer than n."
   ]
  },
  {
   "cell_type": "code",
   "execution_count": 2,
   "metadata": {},
   "outputs": [
    {
     "name": "stdout",
     "output_type": "stream",
     "text": [
      "The longest word is: cccc\n"
     ]
    },
    {
     "data": {
      "text/plain": [
       "'cccc'"
      ]
     },
     "execution_count": 2,
     "metadata": {},
     "output_type": "execute_result"
    }
   ],
   "source": [
    "word = ['a','aaa','b','bb','cccc']\n",
    "def find_longest(list_of_words):\n",
    "    longest_word = list_of_words[0]\n",
    "    for word in list_of_words:\n",
    "        if len(longest_word) < len(word):\n",
    "            longest_word = word\n",
    "    print(f'The longest word is: {longest_word}')\n",
    "    return longest_word\n",
    "find_longest(word)"
   ]
  },
  {
   "cell_type": "markdown",
   "metadata": {},
   "source": [
    "Question 2.1"
   ]
  },
  {
   "cell_type": "markdown",
   "metadata": {},
   "source": [
    "2.1 Write a Python program using function concept that maps list of words into a list of integers\n",
    "representing the lengths of the corresponding words.\n",
    "Hint: If a list [ ab,cde,erty] is passed on to the python function output should come as [2,3,4]\n",
    "Here 2,3 and 4 are the lengths of the words in the list."
   ]
  },
  {
   "cell_type": "code",
   "execution_count": 4,
   "metadata": {},
   "outputs": [
    {
     "name": "stdout",
     "output_type": "stream",
     "text": [
      "InputList ['abdasdffg', 'cde', 'erty']\n",
      "Length of words present in list [9, 3, 4]\n"
     ]
    }
   ],
   "source": [
    "listofWords = ['abdasdffg','cde','erty']\n",
    "numList=[]\n",
    "for i in range(len(listofWords)):\n",
    "    numList.append(len(listofWords[i]))\n",
    "print(\"InputList\",listofWords)\n",
    "print(\"Length of words present in list\",numList)"
   ]
  },
  {
   "cell_type": "markdown",
   "metadata": {},
   "source": [
    "Question 2.2"
   ]
  },
  {
   "cell_type": "markdown",
   "metadata": {},
   "source": [
    "2.2 Write a Python function which takes a character (i.e. a string of length 1) and returns True if\n",
    "it is a vowel, False otherwise."
   ]
  },
  {
   "cell_type": "code",
   "execution_count": 9,
   "metadata": {},
   "outputs": [
    {
     "name": "stdout",
     "output_type": "stream",
     "text": [
      "Please enter String only: aaaa\n",
      "True : vowel a\n",
      "False : consonant c\n",
      "False : consonant g\n",
      "False : consonant r\n",
      "True : vowel e\n",
      "True : vowel i\n",
      "True : vowel o\n"
     ]
    }
   ],
   "source": [
    "def decision(listTemp):\n",
    "        for letter in listTemp:\n",
    "            letter = letter.lower()\n",
    "            if len(letter) != 1:\n",
    "                print(\"Please enter String only:\", letter)\n",
    "            else :\n",
    "                if letter == \"a\" or letter == \"e\" or letter == \"i\" or letter == \"o\" or letter == \"u\":\n",
    "                    print(\"True : vowel\" , letter)\n",
    "                else:\n",
    "                    print(\"False : consonant\",letter)\n",
    "\n",
    "listTemp = ['Aaaa','a','c','g','r','e','i','O']\n",
    "decision(listTemp)"
   ]
  },
  {
   "cell_type": "code",
   "execution_count": null,
   "metadata": {},
   "outputs": [],
   "source": []
  }
 ],
 "metadata": {
  "kernelspec": {
   "display_name": "Python 3",
   "language": "python",
   "name": "python3"
  },
  "language_info": {
   "codemirror_mode": {
    "name": "ipython",
    "version": 3
   },
   "file_extension": ".py",
   "mimetype": "text/x-python",
   "name": "python",
   "nbconvert_exporter": "python",
   "pygments_lexer": "ipython3",
   "version": "3.6.4"
  }
 },
 "nbformat": 4,
 "nbformat_minor": 2
}
