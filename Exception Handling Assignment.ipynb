{
 "cells": [
  {
   "cell_type": "markdown",
   "metadata": {},
   "source": [
    "1. Write a function to compute 5/0 and use try/except to catch the exceptions."
   ]
  },
  {
   "cell_type": "code",
   "execution_count": 1,
   "metadata": {},
   "outputs": [
    {
     "name": "stdout",
     "output_type": "stream",
     "text": [
      "Error: Can not divide by zero\n",
      "Answer is : Infinity\n"
     ]
    }
   ],
   "source": [
    "def divideByZero(numerator,denominator):\n",
    "    try:\n",
    "        ans = numerator/denominator\n",
    "\n",
    "    except ZeroDivisionError as error:\n",
    "        ans = \"Infinity\"\n",
    "        print(\"Error: Can not divide by zero\")\n",
    "    return ans\n",
    "\n",
    "ans = divideByZero(20,0)\n",
    "print(\"Answer is :\",ans)"
   ]
  },
  {
   "cell_type": "markdown",
   "metadata": {},
   "source": [
    "2. Implement a Python program to generate all sentences where subject is in [\"Americans\",\"Indians\"] and verb is in [\"Play\", \"watch\"] and the object is in [\"Baseball\",\"cricket\"]"
   ]
  },
  {
   "cell_type": "code",
   "execution_count": 2,
   "metadata": {},
   "outputs": [
    {
     "name": "stdout",
     "output_type": "stream",
     "text": [
      "Americans play Baseball .\n",
      "Americans play Cricket .\n",
      "Americans watch Baseball .\n",
      "Americans watch Cricket .\n",
      "Indians play Baseball .\n",
      "Indians play Cricket .\n",
      "Indians watch Baseball .\n",
      "Indians watch Cricket .\n"
     ]
    }
   ],
   "source": [
    "def sentenceGenration(subjects , verbs , objects):\n",
    "    for sub in subjects:\n",
    "        for ver in verbs:\n",
    "            for obj in objects:\n",
    "                print(sub,ver,obj,'.')\n",
    "\n",
    "subjects=[\"Americans\",\"Indians\"]\n",
    "verbs=[\"play\",\"watch\"]\n",
    "objects=[\"Baseball\",\"Cricket\"]\n",
    "\n",
    "sentenceGenration(subjects, verbs, objects)"
   ]
  },
  {
   "cell_type": "code",
   "execution_count": null,
   "metadata": {},
   "outputs": [],
   "source": []
  }
 ],
 "metadata": {
  "kernelspec": {
   "display_name": "Python 3",
   "language": "python",
   "name": "python3"
  },
  "language_info": {
   "codemirror_mode": {
    "name": "ipython",
    "version": 3
   },
   "file_extension": ".py",
   "mimetype": "text/x-python",
   "name": "python",
   "nbconvert_exporter": "python",
   "pygments_lexer": "ipython3",
   "version": "3.6.4"
  }
 },
 "nbformat": 4,
 "nbformat_minor": 2
}
